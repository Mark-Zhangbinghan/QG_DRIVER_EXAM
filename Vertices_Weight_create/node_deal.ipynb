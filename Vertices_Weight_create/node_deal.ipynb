{
 "cells": [
  {
   "cell_type": "code",
   "execution_count": 27,
   "id": "initial_id",
   "metadata": {
    "collapsed": true,
    "ExecuteTime": {
     "end_time": "2024-08-11T11:31:31.247117200Z",
     "start_time": "2024-08-11T11:31:31.239412200Z"
    }
   },
   "outputs": [],
   "source": [
    "import numpy\n",
    "import pandas as pd\n",
    "import networkx as nx\n",
    "import matplotlib.pyplot as plt\n",
    "import openpyxl"
   ]
  },
  {
   "cell_type": "code",
   "outputs": [],
   "source": [
    "data = pd.read_excel('node_data.xlsx')"
   ],
   "metadata": {
    "collapsed": false,
    "ExecuteTime": {
     "end_time": "2024-08-11T11:31:31.329621300Z",
     "start_time": "2024-08-11T11:31:31.251140500Z"
    }
   },
   "id": "fa2b6216d94d55b0",
   "execution_count": 28
  },
  {
   "cell_type": "code",
   "outputs": [
    {
     "data": {
      "text/plain": "   Num  X_Coordinate  Y_Coordinate     Name Connect  Weight\n0    1        11.539        11.418  大学城外环西路     2、3       1\n1    2        11.818         4.039   广东科学中心     1、8       1\n2    3        16.630        16.585     崔氏宗祠   1、4、5       4\n3    4        18.976        23.521   中关村青创汇  3、6、10       9\n4    5        21.394        13.681  大学城广大总站   3、6、9      11",
      "text/html": "<div>\n<style scoped>\n    .dataframe tbody tr th:only-of-type {\n        vertical-align: middle;\n    }\n\n    .dataframe tbody tr th {\n        vertical-align: top;\n    }\n\n    .dataframe thead th {\n        text-align: right;\n    }\n</style>\n<table border=\"1\" class=\"dataframe\">\n  <thead>\n    <tr style=\"text-align: right;\">\n      <th></th>\n      <th>Num</th>\n      <th>X_Coordinate</th>\n      <th>Y_Coordinate</th>\n      <th>Name</th>\n      <th>Connect</th>\n      <th>Weight</th>\n    </tr>\n  </thead>\n  <tbody>\n    <tr>\n      <th>0</th>\n      <td>1</td>\n      <td>11.539</td>\n      <td>11.418</td>\n      <td>大学城外环西路</td>\n      <td>2、3</td>\n      <td>1</td>\n    </tr>\n    <tr>\n      <th>1</th>\n      <td>2</td>\n      <td>11.818</td>\n      <td>4.039</td>\n      <td>广东科学中心</td>\n      <td>1、8</td>\n      <td>1</td>\n    </tr>\n    <tr>\n      <th>2</th>\n      <td>3</td>\n      <td>16.630</td>\n      <td>16.585</td>\n      <td>崔氏宗祠</td>\n      <td>1、4、5</td>\n      <td>4</td>\n    </tr>\n    <tr>\n      <th>3</th>\n      <td>4</td>\n      <td>18.976</td>\n      <td>23.521</td>\n      <td>中关村青创汇</td>\n      <td>3、6、10</td>\n      <td>9</td>\n    </tr>\n    <tr>\n      <th>4</th>\n      <td>5</td>\n      <td>21.394</td>\n      <td>13.681</td>\n      <td>大学城广大总站</td>\n      <td>3、6、9</td>\n      <td>11</td>\n    </tr>\n  </tbody>\n</table>\n</div>"
     },
     "execution_count": 29,
     "metadata": {},
     "output_type": "execute_result"
    }
   ],
   "source": [
    "data.head()"
   ],
   "metadata": {
    "collapsed": false,
    "ExecuteTime": {
     "end_time": "2024-08-11T11:31:31.344103800Z",
     "start_time": "2024-08-11T11:31:31.333267600Z"
    }
   },
   "id": "1f519656c0daf0f7",
   "execution_count": 29
  },
  {
   "cell_type": "code",
   "outputs": [],
   "source": [
    "x_data = data['X_Coordinate'].round(3)\n",
    "y_data = data['Y_Coordinate'].round(3)"
   ],
   "metadata": {
    "collapsed": false,
    "ExecuteTime": {
     "end_time": "2024-08-11T11:31:31.351315100Z",
     "start_time": "2024-08-11T11:31:31.345621600Z"
    }
   },
   "id": "e782eaed54bd2289",
   "execution_count": 30
  },
  {
   "cell_type": "code",
   "outputs": [
    {
     "name": "stdout",
     "output_type": "stream",
     "text": [
      "<class 'pandas.core.series.Series'>\n",
      "RangeIndex: 38 entries, 0 to 37\n",
      "Series name: X_Coordinate\n",
      "Non-Null Count  Dtype  \n",
      "--------------  -----  \n",
      "38 non-null     float64\n",
      "dtypes: float64(1)\n",
      "memory usage: 436.0 bytes\n",
      "<class 'pandas.core.series.Series'>\n",
      "RangeIndex: 38 entries, 0 to 37\n",
      "Series name: Y_Coordinate\n",
      "Non-Null Count  Dtype  \n",
      "--------------  -----  \n",
      "38 non-null     float64\n",
      "dtypes: float64(1)\n",
      "memory usage: 436.0 bytes\n"
     ]
    }
   ],
   "source": [
    "x_data.info()\n",
    "y_data.info()"
   ],
   "metadata": {
    "collapsed": false,
    "ExecuteTime": {
     "end_time": "2024-08-11T11:31:31.393171500Z",
     "start_time": "2024-08-11T11:31:31.350313200Z"
    }
   },
   "id": "d3a4dbf70d9b6843",
   "execution_count": 31
  },
  {
   "cell_type": "code",
   "outputs": [
    {
     "data": {
      "text/plain": "<Figure size 640x480 with 1 Axes>",
      "image/png": "[encoded data removed]"
     },
     "metadata": {},
     "output_type": "display_data"
    }
   ],
   "source": [
    "fig = plt.figure()\n",
    "plt.scatter(x_data, y_data)\n",
    "plt.draw()"
   ],
   "metadata": {
    "collapsed": false,
    "ExecuteTime": {
     "end_time": "2024-08-11T11:31:31.507820Z",
     "start_time": "2024-08-11T11:31:31.364673100Z"
    }
   },
   "id": "348f285ef50e1f58",
   "execution_count": 32
  },
  {
   "cell_type": "code",
   "outputs": [
    {
     "name": "stdout",
     "output_type": "stream",
     "text": [
      "x的最小值11.539, x的最大值63.761\n",
      "y的最小值1.829, y的最大值41.801\n"
     ]
    }
   ],
   "source": [
    "print(f'x的最小值{x_data.min()}, x的最大值{x_data.max()}')\n",
    "print(f'y的最小值{y_data.min()}, y的最大值{y_data.max()}')"
   ],
   "metadata": {
    "collapsed": false,
    "ExecuteTime": {
     "end_time": "2024-08-11T11:34:58.517406900Z",
     "start_time": "2024-08-11T11:34:58.513575200Z"
    }
   },
   "id": "b131fd0789332bf2",
   "execution_count": 36
  },
  {
   "cell_type": "code",
   "outputs": [],
   "source": [],
   "metadata": {
    "collapsed": false,
    "ExecuteTime": {
     "end_time": "2024-08-11T11:31:31.516472500Z",
     "start_time": "2024-08-11T11:31:31.513967400Z"
    }
   },
   "id": "609eb100ec9d0692",
   "execution_count": 33
  }
 ],
 "metadata": {
  "kernelspec": {
   "display_name": "Python 3",
   "language": "python",
   "name": "python3"
  },
  "language_info": {
   "codemirror_mode": {
    "name": "ipython",
    "version": 2
   },
   "file_extension": ".py",
   "mimetype": "text/x-python",
   "name": "python",
   "nbconvert_exporter": "python",
   "pygments_lexer": "ipython2",
   "version": "2.7.6"
  }
 },
 "nbformat": 4,
 "nbformat_minor": 5
}
